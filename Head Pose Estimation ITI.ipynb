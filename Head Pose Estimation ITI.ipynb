{
  "cells": [
    {
      "cell_type": "code",
      "execution_count": 1,
      "metadata": {
        "colab": {
          "base_uri": "https://localhost:8080/"
        },
        "id": "uzPwh6TcCJAD",
        "outputId": "8f6b0fa6-b086-4bf3-9cc7-0d71d668dc00"
      },
      "outputs": [
        {
          "output_type": "stream",
          "name": "stdout",
          "text": [
            "Looking in indexes: https://pypi.org/simple, https://us-python.pkg.dev/colab-wheels/public/simple/\n",
            "Requirement already satisfied: opencv-python in /usr/local/lib/python3.7/dist-packages (4.1.2.30)\n",
            "Requirement already satisfied: numpy>=1.14.5 in /usr/local/lib/python3.7/dist-packages (from opencv-python) (1.21.6)\n"
          ]
        }
      ],
      "source": [
        "!pip install opencv-python"
      ]
    },
    {
      "cell_type": "code",
      "execution_count": 2,
      "metadata": {
        "colab": {
          "base_uri": "https://localhost:8080/"
        },
        "id": "a5AUPBLyCPv4",
        "outputId": "5168d6fa-907e-43cf-d5ad-3da43313d741"
      },
      "outputs": [
        {
          "output_type": "stream",
          "name": "stdout",
          "text": [
            "Looking in indexes: https://pypi.org/simple, https://us-python.pkg.dev/colab-wheels/public/simple/\n",
            "Collecting mediapipe\n",
            "  Downloading mediapipe-0.8.10-cp37-cp37m-manylinux_2_17_x86_64.manylinux2014_x86_64.whl (32.8 MB)\n",
            "\u001b[K     |████████████████████████████████| 32.8 MB 1.1 MB/s \n",
            "\u001b[?25hRequirement already satisfied: opencv-contrib-python in /usr/local/lib/python3.7/dist-packages (from mediapipe) (4.1.2.30)\n",
            "Requirement already satisfied: attrs>=19.1.0 in /usr/local/lib/python3.7/dist-packages (from mediapipe) (21.4.0)\n",
            "Requirement already satisfied: absl-py in /usr/local/lib/python3.7/dist-packages (from mediapipe) (1.1.0)\n",
            "Requirement already satisfied: matplotlib in /usr/local/lib/python3.7/dist-packages (from mediapipe) (3.2.2)\n",
            "Requirement already satisfied: numpy in /usr/local/lib/python3.7/dist-packages (from mediapipe) (1.21.6)\n",
            "Requirement already satisfied: protobuf>=3.11.4 in /usr/local/lib/python3.7/dist-packages (from mediapipe) (3.17.3)\n",
            "Requirement already satisfied: six>=1.9 in /usr/local/lib/python3.7/dist-packages (from protobuf>=3.11.4->mediapipe) (1.15.0)\n",
            "Requirement already satisfied: kiwisolver>=1.0.1 in /usr/local/lib/python3.7/dist-packages (from matplotlib->mediapipe) (1.4.2)\n",
            "Requirement already satisfied: pyparsing!=2.0.4,!=2.1.2,!=2.1.6,>=2.0.1 in /usr/local/lib/python3.7/dist-packages (from matplotlib->mediapipe) (3.0.9)\n",
            "Requirement already satisfied: python-dateutil>=2.1 in /usr/local/lib/python3.7/dist-packages (from matplotlib->mediapipe) (2.8.2)\n",
            "Requirement already satisfied: cycler>=0.10 in /usr/local/lib/python3.7/dist-packages (from matplotlib->mediapipe) (0.11.0)\n",
            "Requirement already satisfied: typing-extensions in /usr/local/lib/python3.7/dist-packages (from kiwisolver>=1.0.1->matplotlib->mediapipe) (4.2.0)\n",
            "Installing collected packages: mediapipe\n",
            "Successfully installed mediapipe-0.8.10\n"
          ]
        }
      ],
      "source": [
        "!pip install mediapipe"
      ]
    },
    {
      "cell_type": "code",
      "execution_count": 3,
      "metadata": {
        "colab": {
          "base_uri": "https://localhost:8080/"
        },
        "id": "93cb-Q5DZSkH",
        "outputId": "ebafeb0d-539d-4ada-ba61-ea08d3193d4c"
      },
      "outputs": [
        {
          "output_type": "stream",
          "name": "stdout",
          "text": [
            "Mounted at /content/drive\n"
          ]
        }
      ],
      "source": [
        "from google.colab import drive\n",
        "drive.mount('/content/drive')"
      ]
    },
    {
      "cell_type": "code",
      "execution_count": 4,
      "metadata": {
        "id": "7AnHgP7aZYpv"
      },
      "outputs": [],
      "source": [
        "#Path of AFLW2000 dataset on drive\n",
        "OutPATH=\"/content/drive/MyDrive/Machine Learning 1 project/AFLW2000\""
      ]
    },
    {
      "cell_type": "markdown",
      "source": [
        "## Essential Imports"
      ],
      "metadata": {
        "id": "j-L6eAEpkXUZ"
      }
    },
    {
      "cell_type": "code",
      "execution_count": 5,
      "metadata": {
        "id": "rsnpedJbCZOR"
      },
      "outputs": [],
      "source": [
        "import cv2\n",
        "import mediapipe as mp\n",
        "from google.colab.patches import cv2_imshow\n",
        "import scipy.io as sio\n",
        "from pathlib import Path\n",
        "import glob\n",
        "import pandas as pd\n",
        "import numpy as np"
      ]
    },
    {
      "cell_type": "markdown",
      "source": [
        "## Function to get Landmarks"
      ],
      "metadata": {
        "id": "kEZjOuUXobHw"
      }
    },
    {
      "cell_type": "code",
      "execution_count": 133,
      "metadata": {
        "id": "gudY3QaZN-xv"
      },
      "outputs": [],
      "source": [
        "def GetLandmarksOfImage(image):\n",
        "\n",
        "    xlist, ylist, first_point, second_point = [], [], [], []\n",
        "      \n",
        "    faceModule = mp.solutions.face_mesh\n",
        "\n",
        "    # facemesh--> To get landmarks of each face\n",
        "    with faceModule.FaceMesh(static_image_mode=True) as facemesh:\n",
        "        \n",
        "        # processing the image to extract the landmark points (468 point) for each x,y,z\n",
        "        rgb_image = cv2.cvtColor(image, cv2.COLOR_BGR2RGB)\n",
        "        \n",
        "        # result --> resulting face mesh \n",
        "        result = facemesh.process(rgb_image)\n",
        "\n",
        "        #check if the landmarks extracted are None\n",
        "        if result.multi_face_landmarks != None: \n",
        "          #Extract landmarks from resulting face mesh \n",
        "          for face_landmarks in result.multi_face_landmarks:\n",
        "              for landmark in face_landmarks.landmark:\n",
        "                  # x and y here are scaled with width and height of the image\n",
        "                  x = landmark.x\n",
        "                  y = landmark.y\n",
        "                  shape = image.shape \n",
        "            \n",
        "                  #  we will get back to x and y actual values in the image\n",
        "                  relative_x = int(x * shape[1])\n",
        "                  relative_y = int(y * shape[0])\n",
        "\n",
        "                  #These xlist and ylist are supposed to save each of x and y points of all landmarks of certain face in separate lists \n",
        "                  #xinndexes= [0, 1, ............... 468]  \n",
        "                  #yindexes = [0, 1, ............... 468]\n",
        "                  xlist.append(relative_x)\n",
        "                  ylist.append(relative_y)\n",
        "\n",
        "                  # Point location: near nose \n",
        "                  if landmark == face_landmarks.landmark[100]:\n",
        "                    first_point.append(relative_x)\n",
        "                    first_point.append(relative_y)\n",
        "\n",
        "                  # Point location: at the top right of the face\n",
        "                  if landmark == face_landmarks.landmark[105]:\n",
        "                    second_point.append(relative_x)\n",
        "                    second_point.append(relative_y)\n",
        "\n",
        "    return xlist, ylist, first_point, second_point"
      ]
    },
    {
      "cell_type": "markdown",
      "source": [
        "## The function below is to center and normalize data points"
      ],
      "metadata": {
        "id": "IkDcPmUv16XI"
      }
    },
    {
      "cell_type": "code",
      "source": [
        "def Normalize_Landmarks(Landmarks):\n",
        "  #Get x,y of first point\n",
        "  x_fp, y_fp = Landmarks[2][0], Landmarks[2][1]\n",
        "\n",
        "  #Get x,y of second point\n",
        "  x_sp, y_sp = Landmarks[3][0], Landmarks[3][1]\n",
        "\n",
        "  # Get distance between first point and second point to normalize landmarks\n",
        "  a = np.array([x_fp, y_fp])\n",
        "  b = np.array([x_sp, y_sp])\n",
        "\n",
        "  distance = np.linalg.norm(a-b)\n",
        "\n",
        "  centered_normalized_landmarks_x = (np.array(Landmarks[0]) - x_fp) / distance \n",
        "  centered_normalized_landmarks_y = (np.array(Landmarks[1]) - y_fp) / distance\n",
        "\n",
        "  return centered_normalized_landmarks_x, centered_normalized_landmarks_y"
      ],
      "metadata": {
        "id": "PZ8xiNXevwZT"
      },
      "execution_count": 134,
      "outputs": []
    },
    {
      "cell_type": "markdown",
      "source": [
        "## 'Getpose' function to get yaw, pitch, roll of each image from its mat file"
      ],
      "metadata": {
        "id": "Usonyrrh2DB3"
      }
    },
    {
      "cell_type": "code",
      "source": [
        "def Getpose(mat_file):\n",
        "  # extracting the labels 3 angels\n",
        "  pose_para = mat_file[\"Pose_Para\"][0][:3]\n",
        "  pitch = pose_para[0]\n",
        "  yaw   = pose_para[1]\n",
        "  roll  = pose_para[2]\n",
        "  return [yaw, pitch, roll]"
      ],
      "metadata": {
        "id": "yKUNxquryMGw"
      },
      "execution_count": 135,
      "outputs": []
    },
    {
      "cell_type": "markdown",
      "source": [
        "## Create Data Frame"
      ],
      "metadata": {
        "id": "S7Odzxo02OL8"
      }
    },
    {
      "cell_type": "code",
      "execution_count": 136,
      "metadata": {
        "id": "gX9YonJjh7pM"
      },
      "outputs": [],
      "source": [
        "xlistnames=[]\n",
        "ylistnames=[]\n",
        "for i in range(468):\n",
        "  xlistnames.append('x_'+str(i))\n",
        "  ylistnames.append('y_'+str(i))\n",
        "yprlist=['yaw', 'pitch', 'roll']"
      ]
    },
    {
      "cell_type": "code",
      "source": [
        "df = pd.DataFrame(columns = xlistnames + ylistnames + yprlist)"
      ],
      "metadata": {
        "id": "_wQDav2j1Avo"
      },
      "execution_count": 137,
      "outputs": []
    },
    {
      "cell_type": "markdown",
      "source": [
        "## Iterate over all images and build the dataframe "
      ],
      "metadata": {
        "id": "G2a00t652SDR"
      }
    },
    {
      "cell_type": "code",
      "source": [
        "#Extract name of each image in AFLW2000 dataset\n",
        "Images_Names = [Path(f).stem for f in glob.glob(\"/content/drive/MyDrive/Machine Learning 1 project/AFLW2000/*.mat\")]\n",
        "for imagename in Images_Names:\n",
        "  img = cv2.imread(OutPATH + '/' + imagename + '.jpg')\n",
        "\n",
        "  x = GetLandmarksOfImage(img)\n",
        "\n",
        "  if x[0]==[] or x[1]==[] or x[2]==[] or x[3]==[]:\n",
        "    continue\n",
        "\n",
        "  x_landmarks, y_landmarks = Normalize_Landmarks(x)\n",
        "\n",
        "  mat_file = sio.loadmat(OutPATH + '/' + imagename + '.mat')\n",
        "  \n",
        "  #Append data of each sample (image) to the row of dataframe\n",
        "  df.loc[len(df)] = list(x_landmarks) + list(y_landmarks) + Getpose(mat_file)"
      ],
      "metadata": {
        "id": "cZxpTc2-3zwm"
      },
      "execution_count": 138,
      "outputs": []
    },
    {
      "cell_type": "code",
      "source": [
        "df"
      ],
      "metadata": {
        "colab": {
          "base_uri": "https://localhost:8080/",
          "height": 488
        },
        "id": "dOYSpTmP9TFW",
        "outputId": "5fc3004b-7c29-4dc0-9dd9-66787dbb9762"
      },
      "execution_count": 139,
      "outputs": [
        {
          "output_type": "execute_result",
          "data": {
            "text/plain": [
              "           x_0       x_1       x_2       x_3       x_4       x_5       x_6  \\\n",
              "0     0.594459  0.610525  0.594459  0.465927  0.594459  0.594459  0.546260   \n",
              "1     0.715860  0.914710  0.715860  0.695975  0.934595  0.894825  0.695975   \n",
              "2     0.533144  0.546472  0.533144  0.426515  0.546472  0.533144  0.519815   \n",
              "3     0.638821  0.557269  0.584453  0.380574  0.530085  0.502901  0.448534   \n",
              "4     0.638227  0.554250  0.587841  0.386296  0.537455  0.520659  0.453477   \n",
              "...        ...       ...       ...       ...       ...       ...       ...   \n",
              "1848  0.390149  0.296513  0.390149  0.234089  0.280907  0.296513  0.374543   \n",
              "1849 -0.200715  0.120429  0.000000  0.334525  0.214096  0.334525  0.615526   \n",
              "1850  0.352400  0.137044  0.313244  0.097889  0.097889  0.137044  0.254511   \n",
              "1851  0.426746  0.311853  0.410333  0.229786  0.295439  0.311853  0.344679   \n",
              "1852  0.525683  0.497267  0.511475  0.397814  0.497267  0.497267  0.511475   \n",
              "\n",
              "           x_7       x_8       x_9  ...     y_461     y_462     y_463  \\\n",
              "0    -0.433794  0.514127  0.514127  ...  0.546260  0.562326 -0.465927   \n",
              "1    -0.497125  0.656205  0.656205  ...  0.397700  0.437470 -0.357930   \n",
              "2    -0.413186  0.506487  0.506487  ...  0.533144  0.546472 -0.413186   \n",
              "3    -0.489309  0.394166  0.366982  ...  0.326206  0.353390 -0.530085   \n",
              "4    -0.453477  0.403091  0.369500  ...  0.520659  0.537455 -0.571046   \n",
              "...        ...       ...       ...  ...       ...       ...       ...   \n",
              "1848 -0.343331  0.374543  0.358937  ...  0.327725  0.374543 -0.468179   \n",
              "1849 -0.013381  0.856384  0.990194  ...  0.896527  0.883146  0.254239   \n",
              "1850 -0.274089  0.254511  0.215355  ...  0.430711  0.450288 -0.509022   \n",
              "1851 -0.361093  0.344679  0.328266  ...  0.361093  0.393919 -0.508812   \n",
              "1852 -0.412022  0.511475  0.511475  ...  0.497267  0.511475 -0.412022   \n",
              "\n",
              "         y_464     y_465     y_466     y_467       yaw     pitch      roll  \n",
              "0    -0.433794 -0.401661 -0.578393 -0.610525 -0.070645 -0.137405 -0.053091  \n",
              "1    -0.338045 -0.318160 -0.377815 -0.437470 -0.569188  0.181756 -0.070024  \n",
              "2    -0.373201 -0.333215 -0.519815 -0.559801  0.039903 -0.192543 -0.027199  \n",
              "3    -0.475717 -0.448534 -0.693188 -0.761148  0.000491  0.041106 -0.162906  \n",
              "4    -0.487068 -0.436682 -0.755796 -0.806182 -0.610480 -0.254934  0.343419  \n",
              "...        ...       ...       ...       ...       ...       ...       ...  \n",
              "1848 -0.421361 -0.405755 -0.577421 -0.639844  0.352952  0.033367 -0.062870  \n",
              "1849  0.254239  0.281001  0.535240  0.535240  0.074078 -0.304740  0.735418  \n",
              "1850 -0.450288 -0.430711 -0.646066 -0.743955  0.493541 -0.218161 -0.201171  \n",
              "1851 -0.459573 -0.426746 -0.590879 -0.672945  0.267560  0.041948 -0.074263  \n",
              "1852 -0.383606 -0.355191 -0.511475 -0.539890  0.043278 -0.106842 -0.020779  \n",
              "\n",
              "[1853 rows x 939 columns]"
            ],
            "text/html": [
              "\n",
              "  <div id=\"df-ef202e4f-1963-4b28-b48a-640054d5a07e\">\n",
              "    <div class=\"colab-df-container\">\n",
              "      <div>\n",
              "<style scoped>\n",
              "    .dataframe tbody tr th:only-of-type {\n",
              "        vertical-align: middle;\n",
              "    }\n",
              "\n",
              "    .dataframe tbody tr th {\n",
              "        vertical-align: top;\n",
              "    }\n",
              "\n",
              "    .dataframe thead th {\n",
              "        text-align: right;\n",
              "    }\n",
              "</style>\n",
              "<table border=\"1\" class=\"dataframe\">\n",
              "  <thead>\n",
              "    <tr style=\"text-align: right;\">\n",
              "      <th></th>\n",
              "      <th>x_0</th>\n",
              "      <th>x_1</th>\n",
              "      <th>x_2</th>\n",
              "      <th>x_3</th>\n",
              "      <th>x_4</th>\n",
              "      <th>x_5</th>\n",
              "      <th>x_6</th>\n",
              "      <th>x_7</th>\n",
              "      <th>x_8</th>\n",
              "      <th>x_9</th>\n",
              "      <th>...</th>\n",
              "      <th>y_461</th>\n",
              "      <th>y_462</th>\n",
              "      <th>y_463</th>\n",
              "      <th>y_464</th>\n",
              "      <th>y_465</th>\n",
              "      <th>y_466</th>\n",
              "      <th>y_467</th>\n",
              "      <th>yaw</th>\n",
              "      <th>pitch</th>\n",
              "      <th>roll</th>\n",
              "    </tr>\n",
              "  </thead>\n",
              "  <tbody>\n",
              "    <tr>\n",
              "      <th>0</th>\n",
              "      <td>0.594459</td>\n",
              "      <td>0.610525</td>\n",
              "      <td>0.594459</td>\n",
              "      <td>0.465927</td>\n",
              "      <td>0.594459</td>\n",
              "      <td>0.594459</td>\n",
              "      <td>0.546260</td>\n",
              "      <td>-0.433794</td>\n",
              "      <td>0.514127</td>\n",
              "      <td>0.514127</td>\n",
              "      <td>...</td>\n",
              "      <td>0.546260</td>\n",
              "      <td>0.562326</td>\n",
              "      <td>-0.465927</td>\n",
              "      <td>-0.433794</td>\n",
              "      <td>-0.401661</td>\n",
              "      <td>-0.578393</td>\n",
              "      <td>-0.610525</td>\n",
              "      <td>-0.070645</td>\n",
              "      <td>-0.137405</td>\n",
              "      <td>-0.053091</td>\n",
              "    </tr>\n",
              "    <tr>\n",
              "      <th>1</th>\n",
              "      <td>0.715860</td>\n",
              "      <td>0.914710</td>\n",
              "      <td>0.715860</td>\n",
              "      <td>0.695975</td>\n",
              "      <td>0.934595</td>\n",
              "      <td>0.894825</td>\n",
              "      <td>0.695975</td>\n",
              "      <td>-0.497125</td>\n",
              "      <td>0.656205</td>\n",
              "      <td>0.656205</td>\n",
              "      <td>...</td>\n",
              "      <td>0.397700</td>\n",
              "      <td>0.437470</td>\n",
              "      <td>-0.357930</td>\n",
              "      <td>-0.338045</td>\n",
              "      <td>-0.318160</td>\n",
              "      <td>-0.377815</td>\n",
              "      <td>-0.437470</td>\n",
              "      <td>-0.569188</td>\n",
              "      <td>0.181756</td>\n",
              "      <td>-0.070024</td>\n",
              "    </tr>\n",
              "    <tr>\n",
              "      <th>2</th>\n",
              "      <td>0.533144</td>\n",
              "      <td>0.546472</td>\n",
              "      <td>0.533144</td>\n",
              "      <td>0.426515</td>\n",
              "      <td>0.546472</td>\n",
              "      <td>0.533144</td>\n",
              "      <td>0.519815</td>\n",
              "      <td>-0.413186</td>\n",
              "      <td>0.506487</td>\n",
              "      <td>0.506487</td>\n",
              "      <td>...</td>\n",
              "      <td>0.533144</td>\n",
              "      <td>0.546472</td>\n",
              "      <td>-0.413186</td>\n",
              "      <td>-0.373201</td>\n",
              "      <td>-0.333215</td>\n",
              "      <td>-0.519815</td>\n",
              "      <td>-0.559801</td>\n",
              "      <td>0.039903</td>\n",
              "      <td>-0.192543</td>\n",
              "      <td>-0.027199</td>\n",
              "    </tr>\n",
              "    <tr>\n",
              "      <th>3</th>\n",
              "      <td>0.638821</td>\n",
              "      <td>0.557269</td>\n",
              "      <td>0.584453</td>\n",
              "      <td>0.380574</td>\n",
              "      <td>0.530085</td>\n",
              "      <td>0.502901</td>\n",
              "      <td>0.448534</td>\n",
              "      <td>-0.489309</td>\n",
              "      <td>0.394166</td>\n",
              "      <td>0.366982</td>\n",
              "      <td>...</td>\n",
              "      <td>0.326206</td>\n",
              "      <td>0.353390</td>\n",
              "      <td>-0.530085</td>\n",
              "      <td>-0.475717</td>\n",
              "      <td>-0.448534</td>\n",
              "      <td>-0.693188</td>\n",
              "      <td>-0.761148</td>\n",
              "      <td>0.000491</td>\n",
              "      <td>0.041106</td>\n",
              "      <td>-0.162906</td>\n",
              "    </tr>\n",
              "    <tr>\n",
              "      <th>4</th>\n",
              "      <td>0.638227</td>\n",
              "      <td>0.554250</td>\n",
              "      <td>0.587841</td>\n",
              "      <td>0.386296</td>\n",
              "      <td>0.537455</td>\n",
              "      <td>0.520659</td>\n",
              "      <td>0.453477</td>\n",
              "      <td>-0.453477</td>\n",
              "      <td>0.403091</td>\n",
              "      <td>0.369500</td>\n",
              "      <td>...</td>\n",
              "      <td>0.520659</td>\n",
              "      <td>0.537455</td>\n",
              "      <td>-0.571046</td>\n",
              "      <td>-0.487068</td>\n",
              "      <td>-0.436682</td>\n",
              "      <td>-0.755796</td>\n",
              "      <td>-0.806182</td>\n",
              "      <td>-0.610480</td>\n",
              "      <td>-0.254934</td>\n",
              "      <td>0.343419</td>\n",
              "    </tr>\n",
              "    <tr>\n",
              "      <th>...</th>\n",
              "      <td>...</td>\n",
              "      <td>...</td>\n",
              "      <td>...</td>\n",
              "      <td>...</td>\n",
              "      <td>...</td>\n",
              "      <td>...</td>\n",
              "      <td>...</td>\n",
              "      <td>...</td>\n",
              "      <td>...</td>\n",
              "      <td>...</td>\n",
              "      <td>...</td>\n",
              "      <td>...</td>\n",
              "      <td>...</td>\n",
              "      <td>...</td>\n",
              "      <td>...</td>\n",
              "      <td>...</td>\n",
              "      <td>...</td>\n",
              "      <td>...</td>\n",
              "      <td>...</td>\n",
              "      <td>...</td>\n",
              "      <td>...</td>\n",
              "    </tr>\n",
              "    <tr>\n",
              "      <th>1848</th>\n",
              "      <td>0.390149</td>\n",
              "      <td>0.296513</td>\n",
              "      <td>0.390149</td>\n",
              "      <td>0.234089</td>\n",
              "      <td>0.280907</td>\n",
              "      <td>0.296513</td>\n",
              "      <td>0.374543</td>\n",
              "      <td>-0.343331</td>\n",
              "      <td>0.374543</td>\n",
              "      <td>0.358937</td>\n",
              "      <td>...</td>\n",
              "      <td>0.327725</td>\n",
              "      <td>0.374543</td>\n",
              "      <td>-0.468179</td>\n",
              "      <td>-0.421361</td>\n",
              "      <td>-0.405755</td>\n",
              "      <td>-0.577421</td>\n",
              "      <td>-0.639844</td>\n",
              "      <td>0.352952</td>\n",
              "      <td>0.033367</td>\n",
              "      <td>-0.062870</td>\n",
              "    </tr>\n",
              "    <tr>\n",
              "      <th>1849</th>\n",
              "      <td>-0.200715</td>\n",
              "      <td>0.120429</td>\n",
              "      <td>0.000000</td>\n",
              "      <td>0.334525</td>\n",
              "      <td>0.214096</td>\n",
              "      <td>0.334525</td>\n",
              "      <td>0.615526</td>\n",
              "      <td>-0.013381</td>\n",
              "      <td>0.856384</td>\n",
              "      <td>0.990194</td>\n",
              "      <td>...</td>\n",
              "      <td>0.896527</td>\n",
              "      <td>0.883146</td>\n",
              "      <td>0.254239</td>\n",
              "      <td>0.254239</td>\n",
              "      <td>0.281001</td>\n",
              "      <td>0.535240</td>\n",
              "      <td>0.535240</td>\n",
              "      <td>0.074078</td>\n",
              "      <td>-0.304740</td>\n",
              "      <td>0.735418</td>\n",
              "    </tr>\n",
              "    <tr>\n",
              "      <th>1850</th>\n",
              "      <td>0.352400</td>\n",
              "      <td>0.137044</td>\n",
              "      <td>0.313244</td>\n",
              "      <td>0.097889</td>\n",
              "      <td>0.097889</td>\n",
              "      <td>0.137044</td>\n",
              "      <td>0.254511</td>\n",
              "      <td>-0.274089</td>\n",
              "      <td>0.254511</td>\n",
              "      <td>0.215355</td>\n",
              "      <td>...</td>\n",
              "      <td>0.430711</td>\n",
              "      <td>0.450288</td>\n",
              "      <td>-0.509022</td>\n",
              "      <td>-0.450288</td>\n",
              "      <td>-0.430711</td>\n",
              "      <td>-0.646066</td>\n",
              "      <td>-0.743955</td>\n",
              "      <td>0.493541</td>\n",
              "      <td>-0.218161</td>\n",
              "      <td>-0.201171</td>\n",
              "    </tr>\n",
              "    <tr>\n",
              "      <th>1851</th>\n",
              "      <td>0.426746</td>\n",
              "      <td>0.311853</td>\n",
              "      <td>0.410333</td>\n",
              "      <td>0.229786</td>\n",
              "      <td>0.295439</td>\n",
              "      <td>0.311853</td>\n",
              "      <td>0.344679</td>\n",
              "      <td>-0.361093</td>\n",
              "      <td>0.344679</td>\n",
              "      <td>0.328266</td>\n",
              "      <td>...</td>\n",
              "      <td>0.361093</td>\n",
              "      <td>0.393919</td>\n",
              "      <td>-0.508812</td>\n",
              "      <td>-0.459573</td>\n",
              "      <td>-0.426746</td>\n",
              "      <td>-0.590879</td>\n",
              "      <td>-0.672945</td>\n",
              "      <td>0.267560</td>\n",
              "      <td>0.041948</td>\n",
              "      <td>-0.074263</td>\n",
              "    </tr>\n",
              "    <tr>\n",
              "      <th>1852</th>\n",
              "      <td>0.525683</td>\n",
              "      <td>0.497267</td>\n",
              "      <td>0.511475</td>\n",
              "      <td>0.397814</td>\n",
              "      <td>0.497267</td>\n",
              "      <td>0.497267</td>\n",
              "      <td>0.511475</td>\n",
              "      <td>-0.412022</td>\n",
              "      <td>0.511475</td>\n",
              "      <td>0.511475</td>\n",
              "      <td>...</td>\n",
              "      <td>0.497267</td>\n",
              "      <td>0.511475</td>\n",
              "      <td>-0.412022</td>\n",
              "      <td>-0.383606</td>\n",
              "      <td>-0.355191</td>\n",
              "      <td>-0.511475</td>\n",
              "      <td>-0.539890</td>\n",
              "      <td>0.043278</td>\n",
              "      <td>-0.106842</td>\n",
              "      <td>-0.020779</td>\n",
              "    </tr>\n",
              "  </tbody>\n",
              "</table>\n",
              "<p>1853 rows × 939 columns</p>\n",
              "</div>\n",
              "      <button class=\"colab-df-convert\" onclick=\"convertToInteractive('df-ef202e4f-1963-4b28-b48a-640054d5a07e')\"\n",
              "              title=\"Convert this dataframe to an interactive table.\"\n",
              "              style=\"display:none;\">\n",
              "        \n",
              "  <svg xmlns=\"http://www.w3.org/2000/svg\" height=\"24px\"viewBox=\"0 0 24 24\"\n",
              "       width=\"24px\">\n",
              "    <path d=\"M0 0h24v24H0V0z\" fill=\"none\"/>\n",
              "    <path d=\"M18.56 5.44l.94 2.06.94-2.06 2.06-.94-2.06-.94-.94-2.06-.94 2.06-2.06.94zm-11 1L8.5 8.5l.94-2.06 2.06-.94-2.06-.94L8.5 2.5l-.94 2.06-2.06.94zm10 10l.94 2.06.94-2.06 2.06-.94-2.06-.94-.94-2.06-.94 2.06-2.06.94z\"/><path d=\"M17.41 7.96l-1.37-1.37c-.4-.4-.92-.59-1.43-.59-.52 0-1.04.2-1.43.59L10.3 9.45l-7.72 7.72c-.78.78-.78 2.05 0 2.83L4 21.41c.39.39.9.59 1.41.59.51 0 1.02-.2 1.41-.59l7.78-7.78 2.81-2.81c.8-.78.8-2.07 0-2.86zM5.41 20L4 18.59l7.72-7.72 1.47 1.35L5.41 20z\"/>\n",
              "  </svg>\n",
              "      </button>\n",
              "      \n",
              "  <style>\n",
              "    .colab-df-container {\n",
              "      display:flex;\n",
              "      flex-wrap:wrap;\n",
              "      gap: 12px;\n",
              "    }\n",
              "\n",
              "    .colab-df-convert {\n",
              "      background-color: #E8F0FE;\n",
              "      border: none;\n",
              "      border-radius: 50%;\n",
              "      cursor: pointer;\n",
              "      display: none;\n",
              "      fill: #1967D2;\n",
              "      height: 32px;\n",
              "      padding: 0 0 0 0;\n",
              "      width: 32px;\n",
              "    }\n",
              "\n",
              "    .colab-df-convert:hover {\n",
              "      background-color: #E2EBFA;\n",
              "      box-shadow: 0px 1px 2px rgba(60, 64, 67, 0.3), 0px 1px 3px 1px rgba(60, 64, 67, 0.15);\n",
              "      fill: #174EA6;\n",
              "    }\n",
              "\n",
              "    [theme=dark] .colab-df-convert {\n",
              "      background-color: #3B4455;\n",
              "      fill: #D2E3FC;\n",
              "    }\n",
              "\n",
              "    [theme=dark] .colab-df-convert:hover {\n",
              "      background-color: #434B5C;\n",
              "      box-shadow: 0px 1px 3px 1px rgba(0, 0, 0, 0.15);\n",
              "      filter: drop-shadow(0px 1px 2px rgba(0, 0, 0, 0.3));\n",
              "      fill: #FFFFFF;\n",
              "    }\n",
              "  </style>\n",
              "\n",
              "      <script>\n",
              "        const buttonEl =\n",
              "          document.querySelector('#df-ef202e4f-1963-4b28-b48a-640054d5a07e button.colab-df-convert');\n",
              "        buttonEl.style.display =\n",
              "          google.colab.kernel.accessAllowed ? 'block' : 'none';\n",
              "\n",
              "        async function convertToInteractive(key) {\n",
              "          const element = document.querySelector('#df-ef202e4f-1963-4b28-b48a-640054d5a07e');\n",
              "          const dataTable =\n",
              "            await google.colab.kernel.invokeFunction('convertToInteractive',\n",
              "                                                     [key], {});\n",
              "          if (!dataTable) return;\n",
              "\n",
              "          const docLinkHtml = 'Like what you see? Visit the ' +\n",
              "            '<a target=\"_blank\" href=https://colab.research.google.com/notebooks/data_table.ipynb>data table notebook</a>'\n",
              "            + ' to learn more about interactive tables.';\n",
              "          element.innerHTML = '';\n",
              "          dataTable['output_type'] = 'display_data';\n",
              "          await google.colab.output.renderOutput(dataTable, element);\n",
              "          const docLink = document.createElement('div');\n",
              "          docLink.innerHTML = docLinkHtml;\n",
              "          element.appendChild(docLink);\n",
              "        }\n",
              "      </script>\n",
              "    </div>\n",
              "  </div>\n",
              "  "
            ]
          },
          "metadata": {},
          "execution_count": 139
        }
      ]
    },
    {
      "cell_type": "code",
      "source": [
        "# from sklearn.preprocessing import StandardScaler\n",
        "# import pandas as pd\n",
        "# df2=df\n",
        "# standard_scaler = StandardScaler()\n",
        "# df2[xlistnames+ylistnames] = standard_scaler.fit_transform(df2[xlistnames+ylistnames])\n",
        "# df2"
      ],
      "metadata": {
        "id": "epgRRd9O6Fwu"
      },
      "execution_count": 140,
      "outputs": []
    },
    {
      "cell_type": "markdown",
      "source": [
        "## Split the data to train and test"
      ],
      "metadata": {
        "id": "EoWyQlZb2gTz"
      }
    },
    {
      "cell_type": "code",
      "source": [
        "from sklearn.model_selection import train_test_split\n",
        "X_train, X_test, y_train, y_test = train_test_split(df[xlistnames + ylistnames], df[yprlist], test_size=0.2, random_state=42)"
      ],
      "metadata": {
        "id": "ZQTyvfPw2spf"
      },
      "execution_count": 141,
      "outputs": []
    },
    {
      "cell_type": "markdown",
      "source": [
        "## Linear Regression model"
      ],
      "metadata": {
        "id": "aivKB4eb4BVx"
      }
    },
    {
      "cell_type": "code",
      "source": [
        "from sklearn.linear_model import LinearRegression\n",
        "from sklearn.multioutput import MultiOutputRegressor\n",
        "multioutputregressor = MultiOutputRegressor(LinearRegression()).fit(X_train, y_train)\n",
        "predictions = multioutputregressor.predict(X_test)"
      ],
      "metadata": {
        "id": "0KrOQMGs4GHr"
      },
      "execution_count": 142,
      "outputs": []
    },
    {
      "cell_type": "code",
      "source": [
        "# model evaluation for testing set\n",
        "from sklearn import metrics\n",
        "# mae = metrics.mean_absolute_error(y_test, predictions)\n",
        "# mse = metrics.mean_squared_error(y_test, predictions)\n",
        "r2 = metrics.r2_score(y_test, predictions)\n",
        "\n",
        "print(\"The model performance for testing set\")\n",
        "print(\"--------------------------------------\")\n",
        "\n",
        "# print('MAE is {}'.format(mae))\n",
        "# print('MSE is {}'.format(mse))\n",
        "print('R2 score is {}'.format(r2))"
      ],
      "metadata": {
        "colab": {
          "base_uri": "https://localhost:8080/"
        },
        "id": "dgvTt_lp4GN0",
        "outputId": "a4fd307d-1bac-496c-8651-3488e81d2db8"
      },
      "execution_count": 143,
      "outputs": [
        {
          "output_type": "stream",
          "name": "stdout",
          "text": [
            "The model performance for testing set\n",
            "--------------------------------------\n",
            "R2 score is -3.0402613064521127\n"
          ]
        }
      ]
    },
    {
      "cell_type": "markdown",
      "source": [
        "# ADABOOST model"
      ],
      "metadata": {
        "id": "QKAGR_SV4Tqd"
      }
    },
    {
      "cell_type": "code",
      "source": [
        "from sklearn.multioutput import MultiOutputRegressor\n",
        "from sklearn.ensemble import AdaBoostRegressor\n",
        "\n",
        "multioutputregressor = MultiOutputRegressor(AdaBoostRegressor(random_state=42, n_estimators=100)).fit(X_train, y_train)\n",
        "predictions = multioutputregressor.predict(X_test)"
      ],
      "metadata": {
        "id": "sMBjMWqs4g3t"
      },
      "execution_count": 144,
      "outputs": []
    },
    {
      "cell_type": "code",
      "source": [
        "# model evaluation for testing set\n",
        "from sklearn import metrics\n",
        "mae = metrics.mean_absolute_error(y_test, predictions)\n",
        "mse = metrics.mean_squared_error(y_test, predictions)\n",
        "r2 = metrics.r2_score(y_test, predictions)\n",
        "\n",
        "print(\"The model performance for testing set\")\n",
        "print(\"--------------------------------------\")\n",
        "\n",
        "print('MAE is {}'.format(mae))\n",
        "print('MSE is {}'.format(mse))\n",
        "print('R2 score is {}'.format(r2))"
      ],
      "metadata": {
        "colab": {
          "base_uri": "https://localhost:8080/"
        },
        "id": "sJmcUn6S40Ko",
        "outputId": "b063cf60-37d5-4658-8ef8-ad16e7b8f45d"
      },
      "execution_count": 145,
      "outputs": [
        {
          "output_type": "stream",
          "name": "stdout",
          "text": [
            "The model performance for testing set\n",
            "--------------------------------------\n",
            "MAE is 0.18822240035219018\n",
            "MSE is 0.06084577890902084\n",
            "R2 score is 0.5249563744869438\n"
          ]
        }
      ]
    },
    {
      "cell_type": "markdown",
      "source": [
        "## XGBOOST model "
      ],
      "metadata": {
        "id": "7Yc6HRgf2ldx"
      }
    },
    {
      "cell_type": "code",
      "source": [
        "from sklearn.multioutput import MultiOutputRegressor\n",
        "import xgboost as xgb\n",
        "\n",
        "multioutputregressor = MultiOutputRegressor(xgb.XGBRegressor(objective='reg:squarederror')).fit(X_train, y_train)\n",
        "predictions = multioutputregressor.predict(X_test)"
      ],
      "metadata": {
        "id": "0ASklpbT3HPm"
      },
      "execution_count": 146,
      "outputs": []
    },
    {
      "cell_type": "code",
      "source": [
        "# model evaluation for testing set\n",
        "from sklearn import metrics\n",
        "mae = metrics.mean_absolute_error(y_test, predictions)\n",
        "mse = metrics.mean_squared_error(y_test, predictions)\n",
        "r2 = metrics.r2_score(y_test, predictions)\n",
        "\n",
        "print(\"The model performance for testing set\")\n",
        "print(\"--------------------------------------\")\n",
        "\n",
        "print('MAE is {}'.format(mae))\n",
        "print('MSE is {}'.format(mse))\n",
        "print('R2 score is {}'.format(r2))"
      ],
      "metadata": {
        "colab": {
          "base_uri": "https://localhost:8080/"
        },
        "id": "0NSiVIT-3UKm",
        "outputId": "91bd3d44-8f6a-42a6-9278-3d408cb29c14"
      },
      "execution_count": 147,
      "outputs": [
        {
          "output_type": "stream",
          "name": "stdout",
          "text": [
            "The model performance for testing set\n",
            "--------------------------------------\n",
            "MAE is 0.08636457733899378\n",
            "MSE is 0.060767401921861475\n",
            "R2 score is 0.3685567478933612\n"
          ]
        }
      ]
    },
    {
      "cell_type": "markdown",
      "source": [
        "## SVR model \"Best R2Score\""
      ],
      "metadata": {
        "id": "PJMugNQH5Ub-"
      }
    },
    {
      "cell_type": "code",
      "source": [
        "from sklearn.svm import SVR\n",
        "multioutputregressor = MultiOutputRegressor(SVR()).fit(X_train, y_train)\n",
        "predictions = multioutputregressor.predict(X_test)"
      ],
      "metadata": {
        "id": "_OE_h_xS5WwM"
      },
      "execution_count": 148,
      "outputs": []
    },
    {
      "cell_type": "code",
      "source": [
        "# model evaluation for testing set\n",
        "from sklearn import metrics\n",
        "mae = metrics.mean_absolute_error(y_test, predictions)\n",
        "mse = metrics.mean_squared_error(y_test, predictions)\n",
        "r2 = metrics.r2_score(y_test, predictions)\n",
        "\n",
        "print(\"The model performance for testing set\")\n",
        "print(\"--------------------------------------\")\n",
        "\n",
        "print('MAE is {}'.format(mae))\n",
        "print('MSE is {}'.format(mse))\n",
        "print('R2 score is {}'.format(r2))"
      ],
      "metadata": {
        "colab": {
          "base_uri": "https://localhost:8080/"
        },
        "id": "ppfCLkKb5Y7_",
        "outputId": "235440e7-a1f7-4c7c-ef0a-7c1b979e4099"
      },
      "execution_count": 149,
      "outputs": [
        {
          "output_type": "stream",
          "name": "stdout",
          "text": [
            "The model performance for testing set\n",
            "--------------------------------------\n",
            "MAE is 0.07260246934762014\n",
            "MSE is 0.014371390592831481\n",
            "R2 score is 0.8650746031619588\n"
          ]
        }
      ]
    },
    {
      "cell_type": "markdown",
      "source": [
        "## Draw axis with angles (yaw, pitch, roll)"
      ],
      "metadata": {
        "id": "-8ZphJSJ8Vmk"
      }
    },
    {
      "cell_type": "code",
      "source": [
        "from math import cos, sin\n",
        "\n",
        "def draw_axis(img, pitch,yaw,roll, tdx=None, tdy=None, size = 100):\n",
        "\n",
        "    yaw = -yaw\n",
        "    if tdx != None and tdy != None:\n",
        "        tdx = tdx\n",
        "        tdy = tdy\n",
        "    else:\n",
        "        height, width = img.shape[:2]\n",
        "        tdx = width / 2\n",
        "        tdy = height / 2\n",
        "\n",
        "    # X-Axis pointing to right. drawn in red\n",
        "    x1 = size * (cos(yaw) * cos(roll)) + tdx\n",
        "    y1 = size * (cos(pitch) * sin(roll) + cos(roll) * sin(pitch) * sin(yaw)) + tdy\n",
        "\n",
        "    # Y-Axis | drawn in green\n",
        "    #        v\n",
        "    x2 = size * (-cos(yaw) * sin(roll)) + tdx\n",
        "    y2 = size * (cos(pitch) * cos(roll) - sin(pitch) * sin(yaw) * sin(roll)) + tdy\n",
        "\n",
        "    # Z-Axis (out of the screen) drawn in blue\n",
        "    x3 = size * (sin(yaw)) + tdx\n",
        "    y3 = size * (-cos(yaw) * sin(pitch)) + tdy\n",
        "\n",
        "    cv2.line(img, (int(tdx), int(tdy)), (int(x1),int(y1)),(0,0,255),3)\n",
        "    cv2.line(img, (int(tdx), int(tdy)), (int(x2),int(y2)),(0,255,0),3)\n",
        "    cv2.line(img, (int(tdx), int(tdy)), (int(x3),int(y3)),(255,0,0),2)\n",
        "\n",
        "    return img"
      ],
      "metadata": {
        "id": "SB6hpOk-62wv"
      },
      "execution_count": 151,
      "outputs": []
    },
    {
      "cell_type": "markdown",
      "source": [
        "## Upload test video"
      ],
      "metadata": {
        "id": "KLNFxJf38Pwi"
      }
    },
    {
      "cell_type": "code",
      "source": [
        "from google.colab import files\n",
        "uploaded = files.upload()"
      ],
      "metadata": {
        "colab": {
          "resources": {
            "http://localhost:8080/nbextensions/google.colab/files.js": {
              "data": "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",
              "ok": true,
              "headers": [
                [
                  "content-type",
                  "application/javascript"
                ]
              ],
              "status": 200,
              "status_text": ""
            }
          },
          "base_uri": "https://localhost:8080/",
          "height": 74
        },
        "id": "PSol5Gjr7_Du",
        "outputId": "beb322ee-2561-4a17-836e-a14d0a624b2e"
      },
      "execution_count": 154,
      "outputs": [
        {
          "output_type": "display_data",
          "data": {
            "text/plain": [
              "<IPython.core.display.HTML object>"
            ],
            "text/html": [
              "\n",
              "     <input type=\"file\" id=\"files-d2981d14-6fcd-4bbf-889b-f51d6e9ecb25\" name=\"files[]\" multiple disabled\n",
              "        style=\"border:none\" />\n",
              "     <output id=\"result-d2981d14-6fcd-4bbf-889b-f51d6e9ecb25\">\n",
              "      Upload widget is only available when the cell has been executed in the\n",
              "      current browser session. Please rerun this cell to enable.\n",
              "      </output>\n",
              "      <script src=\"/nbextensions/google.colab/files.js\"></script> "
            ]
          },
          "metadata": {}
        },
        {
          "output_type": "stream",
          "name": "stdout",
          "text": [
            "Saving WIN_20220613_23_34_59_Pro.mp4 to WIN_20220613_23_34_59_Pro.mp4\n"
          ]
        }
      ]
    },
    {
      "cell_type": "markdown",
      "source": [
        "# Test model on video "
      ],
      "metadata": {
        "id": "1uDhtjmw6vZm"
      }
    },
    {
      "cell_type": "code",
      "source": [
        "import cv2\n",
        "cap = cv2.VideoCapture('WIN_20220613_23_34_59_Pro.mp4')\n",
        "video_name = 'Re.avi'\n",
        "video = cv2.VideoWriter(video_name, 0, 10, (1280,720))\n",
        "df_test = pd.DataFrame(columns = xlistnames+ylistnames)\n",
        "\n",
        "while (cap.isOpened()):\n",
        "  ret, frame = cap.read()\n",
        "  if ret is not True :\n",
        "    break\n",
        "  height, width, channels = frame.shape\n",
        "  \n",
        "\n",
        "  x=GetLandmarksOfImage(frame)\n",
        "\n",
        "  if x[0]==[] or x[1]==[] or x[2]==[] or x[3]==[]:\n",
        "    continue\n",
        "\n",
        "  x_landmarks, y_landmarks = Normalize_Landmarks(x)\n",
        "\n",
        "  df_test.loc[len(df_test)] = list(x_landmarks) + list(y_landmarks) \n",
        "\n",
        "  predictions = multioutputregressor.predict(df_test.tail(1))\n",
        "\n",
        "  out_img = draw_axis(frame, predictions[0][1], predictions[0][0], predictions[0][2], x[2][0], x[2][1])\n",
        "\n",
        "  video.write(out_img)\n",
        "\n",
        "cv2.destroyAllWindows()\n",
        "video.release()"
      ],
      "metadata": {
        "id": "rw35G4E_73QE"
      },
      "execution_count": 183,
      "outputs": []
    },
    {
      "cell_type": "markdown",
      "source": [
        "                                                                                                   The end ✌"
      ],
      "metadata": {
        "id": "-fixvLeR3g45"
      }
    }
  ],
  "metadata": {
    "colab": {
      "collapsed_sections": [],
      "name": "ML1_proj_Abdallah&Shimaa.ipynb",
      "provenance": []
    },
    "kernelspec": {
      "display_name": "Python 3",
      "name": "python3"
    },
    "language_info": {
      "name": "python"
    }
  },
  "nbformat": 4,
  "nbformat_minor": 0
}